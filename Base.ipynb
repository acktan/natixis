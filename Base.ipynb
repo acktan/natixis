{
 "cells": [
  {
   "cell_type": "code",
   "execution_count": null,
   "id": "2bdece22",
   "metadata": {},
   "outputs": [],
   "source": [
    "import transformers\n",
    "import pandas as pd\n",
    "import os\n",
    "import json\n",
    "from sklearn.model_selection import cross_val_score, train_test_split\n",
    "# Regressors\n",
    "from sklearn.linear_model import LinearRegression\n",
    "from sklearn.metrics import mean_squared_error\n",
    "import lightgbm as lgb\n",
    "from sklearn.ensemble import RandomForestRegressor\n",
    "from sklearn.ensemble import ExtraTreesRegressor\n",
    "from tpot import TPOTRegressor\n",
    "# Classifiers\n",
    "from sklearn.ensemble import ExtraTreesClassifier\n",
    "from sklearn.ensemble import HistGradientBoostingClassifier\n",
    "from sklearn.tree import DecisionTreeClassifier\n",
    "from sklearn.ensemble import RandomForestClassifier\n",
    "from sklearn.metrics import accuracy_score\n",
    "from sklearn.linear_model import LogisticRegression\n",
    "from tpot import TPOTClassifier"
   ]
  },
  {
   "cell_type": "code",
   "execution_count": null,
   "id": "0b25f2f7",
   "metadata": {},
   "outputs": [],
   "source": [
    "# You have to indicate your own path to where the data is stored on your computer below"
   ]
  },
  {
   "cell_type": "code",
   "execution_count": null,
   "id": "5c7c9788",
   "metadata": {},
   "outputs": [],
   "source": [
    "equity = pd.read_json('data/train/EURUSDV1M_1w.json')\n",
    "volatility = pd.read_json('data/train/VIX_1w.json')\n",
    "e = pd.read_json('data/dev/EURUSDV1M_1w.json')\n",
    "v = pd.read_json('data/dev/VIX_1w.json')"
   ]
  },
  {
   "cell_type": "markdown",
   "id": "007436f3",
   "metadata": {},
   "source": [
    "# Regression"
   ]
  },
  {
   "cell_type": "code",
   "execution_count": null,
   "id": "63a39e71",
   "metadata": {},
   "outputs": [],
   "source": [
    "def reg_predictor(data, model, path, name, area):\n",
    "    stock = pd.DataFrame(data.stock.to_list())\n",
    "    target = pd.DataFrame(data.target_reg)\n",
    "    X_train, X_test, y_train, y_test = train_test_split(stock, target)\n",
    "    r = model()\n",
    "    r_model = r.fit(X_train, y_train.values.ravel())\n",
    "    print('RMSE: ', (mean_squared_error(r_model.predict(X_test), y_test))**0.5)\n",
    "    response = input('Do you want to save the result? Y/N \\n')\n",
    "    if response.lower() == 'y':\n",
    "        reg = list(r_model.predict(area.stock.to_list()))\n",
    "        with open(os.path.join(path, name + '.txt'), 'w') as f:\n",
    "            f.write('\\n'.join(list(map(str, reg))))"
   ]
  },
  {
   "cell_type": "code",
   "execution_count": null,
   "id": "d02bdf4c",
   "metadata": {},
   "outputs": [],
   "source": [
    "# You have to indicate your own path to where the output files are to be stored below"
   ]
  },
  {
   "cell_type": "code",
   "execution_count": null,
   "id": "507762c9",
   "metadata": {},
   "outputs": [],
   "source": [
    "reg_predictor(volatility, LinearRegression, 'answer/VIX_1w', 'pred_reg', v)\n",
    "reg_predictor(equity, LinearRegression, 'answer/EURUSDV1M_1w', 'pred_reg', e)"
   ]
  },
  {
   "cell_type": "markdown",
   "id": "9465e42e",
   "metadata": {},
   "source": [
    "# Classification"
   ]
  },
  {
   "cell_type": "code",
   "execution_count": null,
   "id": "475b0b25",
   "metadata": {},
   "outputs": [],
   "source": [
    "def classif_predictor(data, model, path, name, area):\n",
    "    stock = pd.DataFrame(data.stock.to_list())\n",
    "    target = pd.DataFrame(data.target_classif)\n",
    "    X_train, X_test, y_train, y_test = train_test_split(stock, target)\n",
    "    c = model()\n",
    "    c_model = c.fit(X_train, y_train.values.ravel())\n",
    "    print('RMSE: ', accuracy_score(c_model.predict(X_test), y_test))\n",
    "    response = input('Do you want to save the result? Y/N \\n')\n",
    "    if response.lower() == 'y':\n",
    "        classif = list(c_model.predict(area.stock.to_list()))\n",
    "        with open(os.path.join(path, name + '.txt'), 'w') as f:\n",
    "            f.write('\\n'.join(list(map(str, classif))))"
   ]
  },
  {
   "cell_type": "code",
   "execution_count": null,
   "id": "e9eaee8e",
   "metadata": {},
   "outputs": [],
   "source": [
    "# You have to indicate your own path to where the output files are to be stored below"
   ]
  },
  {
   "cell_type": "code",
   "execution_count": null,
   "id": "6491d3d8",
   "metadata": {},
   "outputs": [],
   "source": [
    "classif_predictor(volatility, LogisticRegression, \n",
    "                  'answer/VIX_1w', 'pred_classif', v)\n",
    "classif_predictor(equity, LogisticRegression,\n",
    "                  'answer/EURUSDV1M_1w', 'pred_classif', e)"
   ]
  }
 ],
 "metadata": {
  "kernelspec": {
   "display_name": "Natixis-kernel",
   "language": "python",
   "name": "natixis-kernel"
  },
  "language_info": {
   "codemirror_mode": {
    "name": "ipython",
    "version": 3
   },
   "file_extension": ".py",
   "mimetype": "text/x-python",
   "name": "python",
   "nbconvert_exporter": "python",
   "pygments_lexer": "ipython3",
   "version": "3.8.12"
  }
 },
 "nbformat": 4,
 "nbformat_minor": 5
}
